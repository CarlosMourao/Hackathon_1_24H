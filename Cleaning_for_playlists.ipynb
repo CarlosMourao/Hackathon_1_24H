{
  "nbformat": 4,
  "nbformat_minor": 0,
  "metadata": {
    "colab": {
      "name": "Cleaning for playlists.ipynb",
      "provenance": [],
      "collapsed_sections": [],
      "include_colab_link": true
    },
    "kernelspec": {
      "name": "python3",
      "display_name": "Python 3"
    },
    "language_info": {
      "name": "python"
    }
  },
  "cells": [
    {
      "cell_type": "markdown",
      "metadata": {
        "id": "view-in-github",
        "colab_type": "text"
      },
      "source": [
        "<a href=\"https://colab.research.google.com/github/CarlosMourao/Hackathon_1_24H/blob/main/Cleaning_for_playlists.ipynb\" target=\"_parent\"><img src=\"https://colab.research.google.com/assets/colab-badge.svg\" alt=\"Open In Colab\"/></a>"
      ]
    },
    {
      "cell_type": "markdown",
      "metadata": {
        "id": "31nPoKAFjTRG"
      },
      "source": [
        "# Ideas, maybe ToDo-s"
      ]
    },
    {
      "cell_type": "markdown",
      "metadata": {
        "id": "NWSQtRzmjYe2"
      },
      "source": [
        "- Sort the dataset by popularity, tempo or anything so that more similar songs are following;\n",
        "- are there music with less lyrics / speechiness?\n",
        "- if mapping done / new column\n",
        "- Return 40 songs (at least)"
      ]
    },
    {
      "cell_type": "markdown",
      "metadata": {
        "id": "9Xi9IZvef5kk"
      },
      "source": [
        "# Importing sources, mounting drive"
      ]
    },
    {
      "cell_type": "code",
      "metadata": {
        "colab": {
          "base_uri": "https://localhost:8080/"
        },
        "id": "3kAdZhE8z27M",
        "outputId": "c03d7065-6fd1-4402-83f0-3a8edfd5a105"
      },
      "source": [
        "import pandas as pd\n",
        "import numpy as np\n",
        "import matplotlib.pyplot as plt\n",
        "import seaborn as sns\n",
        "from sklearn.neighbors import NearestNeighbors\n",
        "from sklearn.preprocessing import StandardScaler\n",
        "\n",
        "from google.colab import drive\n",
        "drive.mount('/content/drive')"
      ],
      "execution_count": null,
      "outputs": [
        {
          "output_type": "stream",
          "name": "stdout",
          "text": [
            "Mounted at /content/drive\n"
          ]
        }
      ]
    },
    {
      "cell_type": "code",
      "metadata": {
        "id": "RGCzNZzy0ACT"
      },
      "source": [
        "spotify = pd.read_csv('/content/drive/MyDrive/spotify_songs.csv')"
      ],
      "execution_count": null,
      "outputs": []
    },
    {
      "cell_type": "markdown",
      "metadata": {
        "id": "wBp_KyDGf9hJ"
      },
      "source": [
        "# Exploring dataset"
      ]
    },
    {
      "cell_type": "code",
      "metadata": {
        "colab": {
          "base_uri": "https://localhost:8080/"
        },
        "id": "cRdWsHts1Dpu",
        "outputId": "997ceb2a-83fa-45f5-c377-39807df54e6c"
      },
      "source": [
        "spotify.info()"
      ],
      "execution_count": null,
      "outputs": [
        {
          "output_type": "stream",
          "name": "stdout",
          "text": [
            "<class 'pandas.core.frame.DataFrame'>\n",
            "RangeIndex: 18454 entries, 0 to 18453\n",
            "Data columns (total 25 columns):\n",
            " #   Column                    Non-Null Count  Dtype  \n",
            "---  ------                    --------------  -----  \n",
            " 0   track_id                  18454 non-null  object \n",
            " 1   track_name                18454 non-null  object \n",
            " 2   track_artist              18454 non-null  object \n",
            " 3   lyrics                    18194 non-null  object \n",
            " 4   track_popularity          18454 non-null  int64  \n",
            " 5   track_album_id            18454 non-null  object \n",
            " 6   track_album_name          18454 non-null  object \n",
            " 7   track_album_release_date  18454 non-null  object \n",
            " 8   playlist_name             18454 non-null  object \n",
            " 9   playlist_id               18454 non-null  object \n",
            " 10  playlist_genre            18454 non-null  object \n",
            " 11  playlist_subgenre         18454 non-null  object \n",
            " 12  danceability              18454 non-null  float64\n",
            " 13  energy                    18454 non-null  float64\n",
            " 14  key                       18454 non-null  int64  \n",
            " 15  loudness                  18454 non-null  float64\n",
            " 16  mode                      18454 non-null  int64  \n",
            " 17  speechiness               18454 non-null  float64\n",
            " 18  acousticness              18454 non-null  float64\n",
            " 19  instrumentalness          18454 non-null  float64\n",
            " 20  liveness                  18454 non-null  float64\n",
            " 21  valence                   18454 non-null  float64\n",
            " 22  tempo                     18454 non-null  float64\n",
            " 23  duration_ms               18454 non-null  int64  \n",
            " 24  language                  18194 non-null  object \n",
            "dtypes: float64(9), int64(4), object(12)\n",
            "memory usage: 3.5+ MB\n"
          ]
        }
      ]
    },
    {
      "cell_type": "code",
      "metadata": {
        "id": "HG7rS3L83M-5"
      },
      "source": [
        "# No accoustical music though, no classic jazz and so on to recommend for coffee houses\n",
        "# spotify[spotify[\"playlist_subgenre\"].isna()]\n",
        "# how many tracks are there"
      ],
      "execution_count": null,
      "outputs": []
    },
    {
      "cell_type": "markdown",
      "metadata": {
        "id": "aZG5scfC1HI0"
      },
      "source": [
        "More or less 20 k data:\n",
        "- 260 rows nan on lyrics and language!\n",
        "- Release data is object\n",
        "- What is in playlist_name? // 400 no chance to go for it!\n",
        "- Playlist_genre and subgenre? // only 6, looks good!\n",
        "- Language option for Italian restaurants? // 24 / however some easy categories, i.e. classics are not present // we cannot target elegant restaurants\n",
        "- what is the range of track_popularity? // 0-100\n",
        "- how language data looks like? // 35, easy to interpret. However nan?"
      ]
    },
    {
      "cell_type": "code",
      "metadata": {
        "colab": {
          "base_uri": "https://localhost:8080/",
          "height": 598
        },
        "id": "tRun_tyq1qF6",
        "outputId": "2b4ff4d3-77b8-4b4c-bd35-c7896d2be85b"
      },
      "source": [
        "spotify.head()"
      ],
      "execution_count": null,
      "outputs": [
        {
          "output_type": "execute_result",
          "data": {
            "text/html": [
              "<div>\n",
              "<style scoped>\n",
              "    .dataframe tbody tr th:only-of-type {\n",
              "        vertical-align: middle;\n",
              "    }\n",
              "\n",
              "    .dataframe tbody tr th {\n",
              "        vertical-align: top;\n",
              "    }\n",
              "\n",
              "    .dataframe thead th {\n",
              "        text-align: right;\n",
              "    }\n",
              "</style>\n",
              "<table border=\"1\" class=\"dataframe\">\n",
              "  <thead>\n",
              "    <tr style=\"text-align: right;\">\n",
              "      <th></th>\n",
              "      <th>track_id</th>\n",
              "      <th>track_name</th>\n",
              "      <th>track_artist</th>\n",
              "      <th>lyrics</th>\n",
              "      <th>track_popularity</th>\n",
              "      <th>track_album_id</th>\n",
              "      <th>track_album_name</th>\n",
              "      <th>track_album_release_date</th>\n",
              "      <th>playlist_name</th>\n",
              "      <th>playlist_id</th>\n",
              "      <th>playlist_genre</th>\n",
              "      <th>playlist_subgenre</th>\n",
              "      <th>danceability</th>\n",
              "      <th>energy</th>\n",
              "      <th>key</th>\n",
              "      <th>loudness</th>\n",
              "      <th>mode</th>\n",
              "      <th>speechiness</th>\n",
              "      <th>acousticness</th>\n",
              "      <th>instrumentalness</th>\n",
              "      <th>liveness</th>\n",
              "      <th>valence</th>\n",
              "      <th>tempo</th>\n",
              "      <th>duration_ms</th>\n",
              "      <th>language</th>\n",
              "    </tr>\n",
              "  </thead>\n",
              "  <tbody>\n",
              "    <tr>\n",
              "      <th>0</th>\n",
              "      <td>0017A6SJgTbfQVU2EtsPNo</td>\n",
              "      <td>Pangarap</td>\n",
              "      <td>Barbie's Cradle</td>\n",
              "      <td>Minsan pa Nang ako'y napalingon Hindi ko alam ...</td>\n",
              "      <td>41</td>\n",
              "      <td>1srJQ0njEQgd8w4XSqI4JQ</td>\n",
              "      <td>Trip</td>\n",
              "      <td>2001-01-01</td>\n",
              "      <td>Pinoy Classic Rock</td>\n",
              "      <td>37i9dQZF1DWYDQ8wBxd7xt</td>\n",
              "      <td>rock</td>\n",
              "      <td>classic rock</td>\n",
              "      <td>0.682</td>\n",
              "      <td>0.401</td>\n",
              "      <td>2</td>\n",
              "      <td>-10.068</td>\n",
              "      <td>1</td>\n",
              "      <td>0.0236</td>\n",
              "      <td>0.27900</td>\n",
              "      <td>0.01170</td>\n",
              "      <td>0.0887</td>\n",
              "      <td>0.566</td>\n",
              "      <td>97.091</td>\n",
              "      <td>235440</td>\n",
              "      <td>tl</td>\n",
              "    </tr>\n",
              "    <tr>\n",
              "      <th>1</th>\n",
              "      <td>004s3t0ONYlzxII9PLgU6z</td>\n",
              "      <td>I Feel Alive</td>\n",
              "      <td>Steady Rollin</td>\n",
              "      <td>The trees, are singing in the wind The sky blu...</td>\n",
              "      <td>28</td>\n",
              "      <td>3z04Lb9Dsilqw68SHt6jLB</td>\n",
              "      <td>Love &amp; Loss</td>\n",
              "      <td>2017-11-21</td>\n",
              "      <td>Hard Rock Workout</td>\n",
              "      <td>3YouF0u7waJnolytf9JCXf</td>\n",
              "      <td>rock</td>\n",
              "      <td>hard rock</td>\n",
              "      <td>0.303</td>\n",
              "      <td>0.880</td>\n",
              "      <td>9</td>\n",
              "      <td>-4.739</td>\n",
              "      <td>1</td>\n",
              "      <td>0.0442</td>\n",
              "      <td>0.01170</td>\n",
              "      <td>0.00994</td>\n",
              "      <td>0.3470</td>\n",
              "      <td>0.404</td>\n",
              "      <td>135.225</td>\n",
              "      <td>373512</td>\n",
              "      <td>en</td>\n",
              "    </tr>\n",
              "    <tr>\n",
              "      <th>2</th>\n",
              "      <td>00chLpzhgVjxs1zKC9UScL</td>\n",
              "      <td>Poison</td>\n",
              "      <td>Bell Biv DeVoe</td>\n",
              "      <td>NA Yeah, Spyderman and Freeze in full effect U...</td>\n",
              "      <td>0</td>\n",
              "      <td>6oZ6brjB8x3GoeSYdwJdPc</td>\n",
              "      <td>Gold</td>\n",
              "      <td>2005-01-01</td>\n",
              "      <td>Back in the day - R&amp;B, New Jack Swing, Swingbe...</td>\n",
              "      <td>3a9y4eeCJRmG9p4YKfqYIx</td>\n",
              "      <td>r&amp;b</td>\n",
              "      <td>new jack swing</td>\n",
              "      <td>0.845</td>\n",
              "      <td>0.652</td>\n",
              "      <td>6</td>\n",
              "      <td>-7.504</td>\n",
              "      <td>0</td>\n",
              "      <td>0.2160</td>\n",
              "      <td>0.00432</td>\n",
              "      <td>0.00723</td>\n",
              "      <td>0.4890</td>\n",
              "      <td>0.650</td>\n",
              "      <td>111.904</td>\n",
              "      <td>262467</td>\n",
              "      <td>en</td>\n",
              "    </tr>\n",
              "    <tr>\n",
              "      <th>3</th>\n",
              "      <td>00cqd6ZsSkLZqGMlQCR0Zo</td>\n",
              "      <td>Baby It's Cold Outside (feat. Christina Aguilera)</td>\n",
              "      <td>CeeLo Green</td>\n",
              "      <td>I really can't stay Baby it's cold outside I'v...</td>\n",
              "      <td>41</td>\n",
              "      <td>3ssspRe42CXkhPxdc12xcp</td>\n",
              "      <td>CeeLo's Magic Moment</td>\n",
              "      <td>2012-10-29</td>\n",
              "      <td>Christmas Soul</td>\n",
              "      <td>6FZYc2BvF7tColxO8PBShV</td>\n",
              "      <td>r&amp;b</td>\n",
              "      <td>neo soul</td>\n",
              "      <td>0.425</td>\n",
              "      <td>0.378</td>\n",
              "      <td>5</td>\n",
              "      <td>-5.819</td>\n",
              "      <td>0</td>\n",
              "      <td>0.0341</td>\n",
              "      <td>0.68900</td>\n",
              "      <td>0.00000</td>\n",
              "      <td>0.0664</td>\n",
              "      <td>0.405</td>\n",
              "      <td>118.593</td>\n",
              "      <td>243067</td>\n",
              "      <td>en</td>\n",
              "    </tr>\n",
              "    <tr>\n",
              "      <th>4</th>\n",
              "      <td>00emjlCv9azBN0fzuuyLqy</td>\n",
              "      <td>Dumb Litty</td>\n",
              "      <td>KARD</td>\n",
              "      <td>Get up out of my business You don't keep me fr...</td>\n",
              "      <td>65</td>\n",
              "      <td>7h5X3xhh3peIK9Y0qI5hbK</td>\n",
              "      <td>KARD 2nd Digital Single ‘Dumb Litty’</td>\n",
              "      <td>2019-09-22</td>\n",
              "      <td>K-Party Dance Mix</td>\n",
              "      <td>37i9dQZF1DX4RDXswvP6Mj</td>\n",
              "      <td>pop</td>\n",
              "      <td>dance pop</td>\n",
              "      <td>0.760</td>\n",
              "      <td>0.887</td>\n",
              "      <td>9</td>\n",
              "      <td>-1.993</td>\n",
              "      <td>1</td>\n",
              "      <td>0.0409</td>\n",
              "      <td>0.03700</td>\n",
              "      <td>0.00000</td>\n",
              "      <td>0.1380</td>\n",
              "      <td>0.240</td>\n",
              "      <td>130.018</td>\n",
              "      <td>193160</td>\n",
              "      <td>en</td>\n",
              "    </tr>\n",
              "  </tbody>\n",
              "</table>\n",
              "</div>"
            ],
            "text/plain": [
              "                 track_id  ... language\n",
              "0  0017A6SJgTbfQVU2EtsPNo  ...       tl\n",
              "1  004s3t0ONYlzxII9PLgU6z  ...       en\n",
              "2  00chLpzhgVjxs1zKC9UScL  ...       en\n",
              "3  00cqd6ZsSkLZqGMlQCR0Zo  ...       en\n",
              "4  00emjlCv9azBN0fzuuyLqy  ...       en\n",
              "\n",
              "[5 rows x 25 columns]"
            ]
          },
          "metadata": {},
          "execution_count": 11
        }
      ]
    },
    {
      "cell_type": "markdown",
      "metadata": {
        "id": "FuPq6qYpgdWV"
      },
      "source": [
        "## Language / if for specific venues"
      ]
    },
    {
      "cell_type": "code",
      "metadata": {
        "colab": {
          "base_uri": "https://localhost:8080/"
        },
        "id": "V9I7eBSj4Epr",
        "outputId": "735848a2-ce36-4831-8445-92a12d339abd"
      },
      "source": [
        "print(len(spotify[\"language\"].unique()))\n",
        "print(spotify[\"language\"].unique())\n",
        "# usable!\n",
        "# nan to re-check?"
      ],
      "execution_count": null,
      "outputs": [
        {
          "output_type": "stream",
          "name": "stdout",
          "text": [
            "35\n",
            "['tl' 'en' 'it' 'es' 'et' 'fr' 'pl' 'nl' 'pt' nan 'id' 'de' 'no' 'da' 'ko'\n",
            " 'ro' 'cy' 'sw' 'vi' 'so' 'tr' 'ru' 'sv' 'ja' 'hi' 'ar' 'cs' 'ca' 'hu'\n",
            " 'sq' 'af' 'hr' 'el' 'fi' 'sk']\n"
          ]
        }
      ]
    },
    {
      "cell_type": "markdown",
      "metadata": {
        "id": "ZnXNIS0fjqUm"
      },
      "source": [
        "## Speechiness"
      ]
    },
    {
      "cell_type": "code",
      "metadata": {
        "id": "FQNtd8HzkONa"
      },
      "source": [
        "spotify[spotify[\"playlist_genre\"] == \"rock\"]"
      ],
      "execution_count": null,
      "outputs": []
    },
    {
      "cell_type": "code",
      "metadata": {
        "colab": {
          "base_uri": "https://localhost:8080/",
          "height": 502
        },
        "id": "JMV-rHhtjtxs",
        "outputId": "35e1e69b-5f4e-43da-95ab-632f7a0a5ec5"
      },
      "source": [
        "\n",
        "sns.set(rc={'figure.figsize':(15,8)})\n",
        "sns.histplot(x = spotify[\"speechiness\"], hue = spotify[\"playlist_genre\"])\n",
        "plt.show()"
      ],
      "execution_count": null,
      "outputs": [
        {
          "output_type": "display_data",
          "data": {
            "image/png": "[encoded data removed]",
            "text/plain": [
              "<Figure size 1080x576 with 1 Axes>"
            ]
          },
          "metadata": {}
        }
      ]
    },
    {
      "cell_type": "markdown",
      "metadata": {
        "id": "efrkwlvXggyT"
      },
      "source": [
        "## Track popularity overview"
      ]
    },
    {
      "cell_type": "code",
      "metadata": {
        "colab": {
          "base_uri": "https://localhost:8080/",
          "height": 268
        },
        "id": "7uO5SESc3csl",
        "outputId": "351b1192-9896-4405-ef07-dca9b6d08c06"
      },
      "source": [
        "sns.boxplot(y = spotify[\"track_popularity\"])\n",
        "plt.title(\"Distribution of track popularity\")\n",
        "plt.show()\n",
        "# Looks good, distinctive enough to use.\n",
        "# i.e. music only above a popularity 20 to use // however data set is compact, no need to drop rows"
      ],
      "execution_count": null,
      "outputs": [
        {
          "output_type": "display_data",
          "data": {
            "image/png": "[encoded data removed]",
            "text/plain": [
              "<Figure size 432x288 with 1 Axes>"
            ]
          },
          "metadata": {
            "needs_background": "light"
          }
        }
      ]
    },
    {
      "cell_type": "markdown",
      "metadata": {
        "id": "p2nNfe9qhmYk"
      },
      "source": [
        "## Release year // **HERE NEW COLUMN**"
      ]
    },
    {
      "cell_type": "code",
      "metadata": {
        "id": "cXLCwAmG2PN7"
      },
      "source": [
        "type(spotify[\"track_album_release_date\"].unique()[0])"
      ],
      "execution_count": null,
      "outputs": []
    },
    {
      "cell_type": "code",
      "metadata": {
        "id": "cUVv72Bq6-QT"
      },
      "source": [
        "spotify[\"len of release\"] = spotify[\"track_album_release_date\"].apply(lambda x: len(x))"
      ],
      "execution_count": null,
      "outputs": []
    },
    {
      "cell_type": "code",
      "metadata": {
        "colab": {
          "base_uri": "https://localhost:8080/"
        },
        "id": "GHDAtETJ7OVt",
        "outputId": "f2d238c3-4646-4727-f852-c494305f6968"
      },
      "source": [
        "spotify[\"len of release\"].unique()"
      ],
      "execution_count": null,
      "outputs": [
        {
          "output_type": "execute_result",
          "data": {
            "text/plain": [
              "array([10,  4,  7])"
            ]
          },
          "metadata": {},
          "execution_count": 31
        }
      ]
    },
    {
      "cell_type": "code",
      "metadata": {
        "colab": {
          "base_uri": "https://localhost:8080/"
        },
        "id": "Tlhj1J657RrN",
        "outputId": "969f96b3-dab1-4282-cd93-cb4049b72d61"
      },
      "source": [
        "spotify[\"track_album_release_date\"][spotify[\"len of release\"] == 4].unique() ## Here only year is present"
      ],
      "execution_count": null,
      "outputs": [
        {
          "output_type": "execute_result",
          "data": {
            "text/plain": [
              "array(['1981', '1987', '1997', '1971', '2001', '2005', '2013', '1993',\n",
              "       '1986', '2007', '1985', '1989', '2004', '1974', '2008', '2012',\n",
              "       '1996', '1969', '2006', '1967', '1972', '1984', '2014', '1976',\n",
              "       '1991', '1960', '1988', '2000', '1992', '1995', '1994', '2011',\n",
              "       '1978', '2003', '1979', '2015', '2010', '2016', '1970', '1980',\n",
              "       '1983', '2009', '2002', '1975', '1998', '1973', '1977', '1965',\n",
              "       '1999', '2017', '1968', '1990', '1982', '1964', '1966', '2019'],\n",
              "      dtype=object)"
            ]
          },
          "metadata": {},
          "execution_count": 29
        }
      ]
    },
    {
      "cell_type": "code",
      "metadata": {
        "colab": {
          "base_uri": "https://localhost:8080/"
        },
        "id": "vcRpAj7L7XHy",
        "outputId": "39eecef0-62b1-4c3b-af71-53d22180024e"
      },
      "source": [
        "spotify[\"track_album_release_date\"][spotify[\"len of release\"] == 7].unique() ## Here month and year is present, but first 4 is the year"
      ],
      "execution_count": null,
      "outputs": [
        {
          "output_type": "execute_result",
          "data": {
            "text/plain": [
              "array(['1977-02', '1973-05', '1977-09', '1967-04', '1978-04', '1973-09',\n",
              "       '1978-08', '1978-01', '1976-12', '1971-07', '1967-09', '1981-03',\n",
              "       '1981-12', '1971-03', '1966-09', '1966-02', '1970-02', '1978-09',\n",
              "       '1957-03'], dtype=object)"
            ]
          },
          "metadata": {},
          "execution_count": 30
        }
      ]
    },
    {
      "cell_type": "code",
      "metadata": {
        "colab": {
          "base_uri": "https://localhost:8080/"
        },
        "id": "n8RWO_xA7rto",
        "outputId": "e8c5e575-a3a0-4663-b155-2e07b6789500"
      },
      "source": [
        "spotify[\"track_album_release_date\"][spotify[\"len of release\"] == 10].unique() ## Here day, month and year is present, but first 4 is the year"
      ],
      "execution_count": null,
      "outputs": [
        {
          "output_type": "execute_result",
          "data": {
            "text/plain": [
              "array(['2001-01-01', '2017-11-21', '2005-01-01', ..., '1984-12-11',\n",
              "       '1967-11-01', '1972-07-01'], dtype=object)"
            ]
          },
          "metadata": {},
          "execution_count": 32
        }
      ]
    },
    {
      "cell_type": "code",
      "metadata": {
        "id": "KY6NKQts71eN"
      },
      "source": [
        "spotify[\"year\"] = spotify[\"track_album_release_date\"].apply(lambda x: int(x[0:4]))"
      ],
      "execution_count": null,
      "outputs": []
    },
    {
      "cell_type": "code",
      "metadata": {
        "colab": {
          "base_uri": "https://localhost:8080/",
          "height": 268
        },
        "id": "37-a__Uo8Dk_",
        "outputId": "7d8ecc12-f589-429a-a81a-cbc4e0d06e8a"
      },
      "source": [
        "sns.boxplot(y = spotify[\"year\"])\n",
        "plt.title(\"year distribution of track release\")\n",
        "plt.show()"
      ],
      "execution_count": null,
      "outputs": [
        {
          "output_type": "display_data",
          "data": {
            "image/png": "[encoded data removed]",
            "text/plain": [
              "<Figure size 432x288 with 1 Axes>"
            ]
          },
          "metadata": {
            "needs_background": "light"
          }
        }
      ]
    },
    {
      "cell_type": "code",
      "metadata": {
        "colab": {
          "base_uri": "https://localhost:8080/"
        },
        "id": "vQY3bL5J8GgI",
        "outputId": "e50d9d38-7d08-4127-fab9-1cfa8b5000c2"
      },
      "source": [
        "print(spotify[\"year\"].unique())\n",
        "print(len(spotify[\"year\"].unique()))"
      ],
      "execution_count": null,
      "outputs": [
        {
          "output_type": "stream",
          "name": "stdout",
          "text": [
            "[2001 2017 2005 2012 2019 1999 1989 2011 2015 2007 1978 2003 2016 2014\n",
            " 2018 1976 1981 2013 1991 1998 2006 1987 1997 1986 1988 2020 1996 1977\n",
            " 2009 1971 1961 2010 2004 2008 1993 2000 1995 2002 1974 1985 1990 1975\n",
            " 1984 1980 1979 1973 1994 1969 1967 1972 1968 1960 1992 1983 1970 1982\n",
            " 1965 1963 1966 1964 1958 1957]\n",
            "62\n"
          ]
        }
      ]
    },
    {
      "cell_type": "markdown",
      "metadata": {
        "id": "RZ8ds7-9FLHE"
      },
      "source": [
        "## Playlists"
      ]
    },
    {
      "cell_type": "code",
      "metadata": {
        "id": "S9FPoMG41FeS"
      },
      "source": [
        "print(len(spotify[\"playlist_name\"].unique()))\n",
        "print(spotify[\"playlist_name\"].unique())\n",
        "# We have 442 different playlist_name, whihch is a lot to look through"
      ],
      "execution_count": null,
      "outputs": []
    },
    {
      "cell_type": "code",
      "metadata": {
        "colab": {
          "base_uri": "https://localhost:8080/",
          "height": 700
        },
        "id": "AO8mPi8kjLns",
        "outputId": "235ce360-7334-4ef5-b41b-2500a5ec0f8d"
      },
      "source": [
        "spotify.pivot_table(values = \"track_id\", index = \"playlist_name\", aggfunc=\"count\").sort_values(by = \"track_id\", ascending = False).head(20)"
      ],
      "execution_count": null,
      "outputs": [
        {
          "output_type": "execute_result",
          "data": {
            "text/html": [
              "<div>\n",
              "<style scoped>\n",
              "    .dataframe tbody tr th:only-of-type {\n",
              "        vertical-align: middle;\n",
              "    }\n",
              "\n",
              "    .dataframe tbody tr th {\n",
              "        vertical-align: top;\n",
              "    }\n",
              "\n",
              "    .dataframe thead th {\n",
              "        text-align: right;\n",
              "    }\n",
              "</style>\n",
              "<table border=\"1\" class=\"dataframe\">\n",
              "  <thead>\n",
              "    <tr style=\"text-align: right;\">\n",
              "      <th></th>\n",
              "      <th>track_id</th>\n",
              "    </tr>\n",
              "    <tr>\n",
              "      <th>playlist_name</th>\n",
              "      <th></th>\n",
              "    </tr>\n",
              "  </thead>\n",
              "  <tbody>\n",
              "    <tr>\n",
              "      <th>Indie Poptimism</th>\n",
              "      <td>258</td>\n",
              "    </tr>\n",
              "    <tr>\n",
              "      <th>Permanent Wave</th>\n",
              "      <td>193</td>\n",
              "    </tr>\n",
              "    <tr>\n",
              "      <th>Southern Hip Hop</th>\n",
              "      <td>144</td>\n",
              "    </tr>\n",
              "    <tr>\n",
              "      <th>Hard Rock Workout</th>\n",
              "      <td>143</td>\n",
              "    </tr>\n",
              "    <tr>\n",
              "      <th>post teen pop</th>\n",
              "      <td>132</td>\n",
              "    </tr>\n",
              "    <tr>\n",
              "      <th>Urban Contemporary</th>\n",
              "      <td>128</td>\n",
              "    </tr>\n",
              "    <tr>\n",
              "      <th>New Jack Swing</th>\n",
              "      <td>118</td>\n",
              "    </tr>\n",
              "    <tr>\n",
              "      <th>permanent wave</th>\n",
              "      <td>116</td>\n",
              "    </tr>\n",
              "    <tr>\n",
              "      <th>Dance Pop</th>\n",
              "      <td>108</td>\n",
              "    </tr>\n",
              "    <tr>\n",
              "      <th>The Queen - La Discografia Completa</th>\n",
              "      <td>94</td>\n",
              "    </tr>\n",
              "    <tr>\n",
              "      <th>Ultimate Indie Presents... Best Indie Tracks of the 2010s</th>\n",
              "      <td>92</td>\n",
              "    </tr>\n",
              "    <tr>\n",
              "      <th>Unplugged Hits 📣</th>\n",
              "      <td>91</td>\n",
              "    </tr>\n",
              "    <tr>\n",
              "      <th>Music&amp;Other Drugs</th>\n",
              "      <td>90</td>\n",
              "    </tr>\n",
              "    <tr>\n",
              "      <th>Pop Punk | Post-Hardcore</th>\n",
              "      <td>90</td>\n",
              "    </tr>\n",
              "    <tr>\n",
              "      <th>70s Pop &amp; Rock Hits and Deep Tracks</th>\n",
              "      <td>90</td>\n",
              "    </tr>\n",
              "    <tr>\n",
              "      <th>Contemporary Hip Hop</th>\n",
              "      <td>90</td>\n",
              "    </tr>\n",
              "    <tr>\n",
              "      <th>indie poptimism</th>\n",
              "      <td>89</td>\n",
              "    </tr>\n",
              "    <tr>\n",
              "      <th>2019 in Indie Poptimism</th>\n",
              "      <td>89</td>\n",
              "    </tr>\n",
              "    <tr>\n",
              "      <th>The Sound of Urban Contemporary</th>\n",
              "      <td>88</td>\n",
              "    </tr>\n",
              "    <tr>\n",
              "      <th>Hip-Hop Drive</th>\n",
              "      <td>88</td>\n",
              "    </tr>\n",
              "  </tbody>\n",
              "</table>\n",
              "</div>"
            ],
            "text/plain": [
              "                                                    track_id\n",
              "playlist_name                                               \n",
              "Indie Poptimism                                          258\n",
              "Permanent Wave                                           193\n",
              "Southern Hip Hop                                         144\n",
              "Hard Rock Workout                                        143\n",
              "post teen pop                                            132\n",
              "Urban Contemporary                                       128\n",
              "New Jack Swing                                           118\n",
              "permanent wave                                           116\n",
              "Dance Pop                                                108\n",
              "The Queen - La Discografia Completa                       94\n",
              "Ultimate Indie Presents... Best Indie Tracks of...        92\n",
              "Unplugged Hits 📣                                          91\n",
              "Music&Other Drugs                                         90\n",
              "Pop Punk | Post-Hardcore                                  90\n",
              "70s Pop & Rock Hits and Deep Tracks                       90\n",
              "Contemporary Hip Hop                                      90\n",
              "indie poptimism                                           89\n",
              "2019 in Indie Poptimism                                   89\n",
              "The Sound of Urban Contemporary                           88\n",
              "Hip-Hop Drive                                             88"
            ]
          },
          "metadata": {},
          "execution_count": 237
        }
      ]
    },
    {
      "cell_type": "markdown",
      "metadata": {
        "id": "VHTmxWGngBAT"
      },
      "source": [
        "# Playlist genre and subgenre"
      ]
    },
    {
      "cell_type": "code",
      "metadata": {
        "colab": {
          "base_uri": "https://localhost:8080/"
        },
        "id": "M4zuWSB-21PF",
        "outputId": "62e3d0b6-920e-48f3-b2ad-9e6a416ca70e"
      },
      "source": [
        "print(len(spotify[\"playlist_genre\"].unique()))\n",
        "print(spotify[\"playlist_genre\"].unique())\n",
        "print(len(spotify[\"playlist_subgenre\"].unique()))\n",
        "print(spotify[\"playlist_subgenre\"].unique())"
      ],
      "execution_count": null,
      "outputs": [
        {
          "output_type": "stream",
          "name": "stdout",
          "text": [
            "6\n",
            "['rock' 'r&b' 'pop' 'edm' 'latin' 'rap']\n",
            "24\n",
            "['classic rock' 'hard rock' 'new jack swing' 'neo soul' 'dance pop'\n",
            " 'urban contemporary' 'big room' 'hip pop' 'latin pop' 'indie poptimism'\n",
            " 'gangster rap' 'album rock' 'post-teen pop' 'trap' 'latin hip hop'\n",
            " 'southern hip hop' 'tropical' 'electropop' 'progressive electro house'\n",
            " 'pop edm' 'reggaeton' 'hip hop' 'permanent wave' 'electro house']\n"
          ]
        }
      ]
    },
    {
      "cell_type": "markdown",
      "metadata": {
        "id": "mNifv5zlhr0w"
      },
      "source": [
        "## Playlist genre"
      ]
    },
    {
      "cell_type": "code",
      "metadata": {
        "colab": {
          "base_uri": "https://localhost:8080/",
          "height": 266
        },
        "id": "0hEAoa6l8S8b",
        "outputId": "7407f72a-b4ff-4f98-e904-9e0118519210"
      },
      "source": [
        "spotify.pivot_table(values = \"track_id\", index = \"playlist_genre\", aggfunc=\"count\").sort_values(by = \"track_id\", ascending = False)"
      ],
      "execution_count": null,
      "outputs": [
        {
          "output_type": "execute_result",
          "data": {
            "text/html": [
              "<div>\n",
              "<style scoped>\n",
              "    .dataframe tbody tr th:only-of-type {\n",
              "        vertical-align: middle;\n",
              "    }\n",
              "\n",
              "    .dataframe tbody tr th {\n",
              "        vertical-align: top;\n",
              "    }\n",
              "\n",
              "    .dataframe thead th {\n",
              "        text-align: right;\n",
              "    }\n",
              "</style>\n",
              "<table border=\"1\" class=\"dataframe\">\n",
              "  <thead>\n",
              "    <tr style=\"text-align: right;\">\n",
              "      <th></th>\n",
              "      <th>track_id</th>\n",
              "    </tr>\n",
              "    <tr>\n",
              "      <th>playlist_genre</th>\n",
              "      <th></th>\n",
              "    </tr>\n",
              "  </thead>\n",
              "  <tbody>\n",
              "    <tr>\n",
              "      <th>pop</th>\n",
              "      <td>3993</td>\n",
              "    </tr>\n",
              "    <tr>\n",
              "      <th>rock</th>\n",
              "      <td>3521</td>\n",
              "    </tr>\n",
              "    <tr>\n",
              "      <th>rap</th>\n",
              "      <td>3391</td>\n",
              "    </tr>\n",
              "    <tr>\n",
              "      <th>r&amp;b</th>\n",
              "      <td>3326</td>\n",
              "    </tr>\n",
              "    <tr>\n",
              "      <th>latin</th>\n",
              "      <td>2178</td>\n",
              "    </tr>\n",
              "    <tr>\n",
              "      <th>edm</th>\n",
              "      <td>2045</td>\n",
              "    </tr>\n",
              "  </tbody>\n",
              "</table>\n",
              "</div>"
            ],
            "text/plain": [
              "                track_id\n",
              "playlist_genre          \n",
              "pop                 3993\n",
              "rock                3521\n",
              "rap                 3391\n",
              "r&b                 3326\n",
              "latin               2178\n",
              "edm                 2045"
            ]
          },
          "metadata": {},
          "execution_count": 46
        }
      ]
    },
    {
      "cell_type": "markdown",
      "metadata": {
        "id": "WbfzQ0PRhuHI"
      },
      "source": [
        "## Playlist subgenre"
      ]
    },
    {
      "cell_type": "code",
      "metadata": {
        "colab": {
          "base_uri": "https://localhost:8080/"
        },
        "id": "uRWZ4ARFcXbk",
        "outputId": "6dcda5c4-2227-40b4-f371-3bd9ade7843f"
      },
      "source": [
        "print(spotify.pivot_table(values = \"track_popularity\", index = \"playlist_subgenre\", aggfunc=\"mean\").sort_values(by = \"track_popularity\", ascending = False))"
      ],
      "execution_count": null,
      "outputs": [
        {
          "output_type": "stream",
          "name": "stdout",
          "text": [
            "                           track_popularity\n",
            "playlist_subgenre                          \n",
            "hip hop                           57.249637\n",
            "post-teen pop                     56.636364\n",
            "dance pop                         56.330588\n",
            "permanent wave                    53.901542\n",
            "trap                              51.901325\n",
            "hip pop                           50.437008\n",
            "latin pop                         49.661616\n",
            "urban contemporary                49.424145\n",
            "reggaeton                         45.753425\n",
            "tropical                          43.936575\n",
            "electropop                        41.628631\n",
            "latin hip hop                     41.465082\n",
            "album rock                        41.437198\n",
            "indie poptimism                   41.247671\n",
            "classic rock                      39.396104\n",
            "electro house                     38.681818\n",
            "pop edm                           38.643478\n",
            "southern hip hop                  36.722798\n",
            "hard rock                         34.711663\n",
            "neo soul                          34.263736\n",
            "gangster rap                      34.047399\n",
            "big room                          30.556886\n",
            "new jack swing                    26.900114\n",
            "progressive electro house         26.616564\n"
          ]
        }
      ]
    },
    {
      "cell_type": "code",
      "metadata": {
        "colab": {
          "base_uri": "https://localhost:8080/"
        },
        "id": "c5Fpo0fG9P6p",
        "outputId": "d5d55f04-c646-40c5-8553-a0c8f1b54d4f"
      },
      "source": [
        "print(spotify.pivot_table(values = \"track_id\", index = \"playlist_subgenre\", aggfunc=\"count\").sort_values(by = \"track_id\", ascending = False))"
      ],
      "execution_count": null,
      "outputs": [
        {
          "output_type": "stream",
          "name": "stdout",
          "text": [
            "                           track_id\n",
            "playlist_subgenre                  \n",
            "indie poptimism                1288\n",
            "southern hip hop               1158\n",
            "neo soul                       1001\n",
            "electropop                      964\n",
            "urban contemporary              936\n",
            "hard rock                       926\n",
            "classic rock                    924\n",
            "post-teen pop                   891\n",
            "new jack swing                  881\n",
            "gangster rap                    865\n",
            "dance pop                       850\n",
            "permanent wave                  843\n",
            "album rock                      828\n",
            "hip hop                         689\n",
            "trap                            679\n",
            "latin hip hop                   673\n",
            "progressive electro house       652\n",
            "latin pop                       594\n",
            "pop edm                         575\n",
            "hip pop                         508\n",
            "electro house                   484\n",
            "tropical                        473\n",
            "reggaeton                       438\n",
            "big room                        334\n"
          ]
        }
      ]
    },
    {
      "cell_type": "markdown",
      "metadata": {
        "id": "l9ll2uxXhzMo"
      },
      "source": [
        "# New dataset: Spotify_maingenre to check genre-numeric relations"
      ]
    },
    {
      "cell_type": "code",
      "metadata": {
        "id": "usuH-b9t9V-V"
      },
      "source": [
        "# If I make the genre to dummies, I can get the correlation with the last numerical columns.\n",
        "# title_movies = pd.concat([title_movies, title_movies['genres'].str.get_dummies(',')], axis = 1)\n",
        "spotify_maingenres = pd.concat([spotify, spotify[\"playlist_genre\"].str.get_dummies()], axis = 1)"
      ],
      "execution_count": null,
      "outputs": []
    },
    {
      "cell_type": "code",
      "metadata": {
        "id": "9y3c3bj9_nde",
        "colab": {
          "base_uri": "https://localhost:8080/",
          "height": 689
        },
        "outputId": "245c3e9f-164f-4689-bc45-deb9598ac7e7"
      },
      "source": [
        "# Okay, still not understanding numbers... \n",
        "spotify_maingenres.corr()"
      ],
      "execution_count": null,
      "outputs": [
        {
          "output_type": "execute_result",
          "data": {
            "text/html": [
              "<div>\n",
              "<style scoped>\n",
              "    .dataframe tbody tr th:only-of-type {\n",
              "        vertical-align: middle;\n",
              "    }\n",
              "\n",
              "    .dataframe tbody tr th {\n",
              "        vertical-align: top;\n",
              "    }\n",
              "\n",
              "    .dataframe thead th {\n",
              "        text-align: right;\n",
              "    }\n",
              "</style>\n",
              "<table border=\"1\" class=\"dataframe\">\n",
              "  <thead>\n",
              "    <tr style=\"text-align: right;\">\n",
              "      <th></th>\n",
              "      <th>track_popularity</th>\n",
              "      <th>danceability</th>\n",
              "      <th>energy</th>\n",
              "      <th>key</th>\n",
              "      <th>loudness</th>\n",
              "      <th>mode</th>\n",
              "      <th>speechiness</th>\n",
              "      <th>acousticness</th>\n",
              "      <th>instrumentalness</th>\n",
              "      <th>liveness</th>\n",
              "      <th>valence</th>\n",
              "      <th>tempo</th>\n",
              "      <th>duration_ms</th>\n",
              "      <th>year</th>\n",
              "      <th>edm</th>\n",
              "      <th>latin</th>\n",
              "      <th>pop</th>\n",
              "      <th>r&amp;b</th>\n",
              "      <th>rap</th>\n",
              "      <th>rock</th>\n",
              "    </tr>\n",
              "  </thead>\n",
              "  <tbody>\n",
              "    <tr>\n",
              "      <th>track_popularity</th>\n",
              "      <td>1.000000</td>\n",
              "      <td>0.061499</td>\n",
              "      <td>-0.093521</td>\n",
              "      <td>-0.006878</td>\n",
              "      <td>0.031290</td>\n",
              "      <td>0.010947</td>\n",
              "      <td>-0.000622</td>\n",
              "      <td>0.076821</td>\n",
              "      <td>-0.080933</td>\n",
              "      <td>-0.059334</td>\n",
              "      <td>-0.004490</td>\n",
              "      <td>0.011954</td>\n",
              "      <td>-0.143970</td>\n",
              "      <td>0.079729</td>\n",
              "      <td>-0.128232</td>\n",
              "      <td>0.039541</td>\n",
              "      <td>0.118376</td>\n",
              "      <td>-0.064552</td>\n",
              "      <td>0.015642</td>\n",
              "      <td>-0.006348</td>\n",
              "    </tr>\n",
              "    <tr>\n",
              "      <th>danceability</th>\n",
              "      <td>0.061499</td>\n",
              "      <td>1.000000</td>\n",
              "      <td>-0.089708</td>\n",
              "      <td>0.002090</td>\n",
              "      <td>0.022830</td>\n",
              "      <td>-0.078020</td>\n",
              "      <td>0.204041</td>\n",
              "      <td>-0.029240</td>\n",
              "      <td>-0.049187</td>\n",
              "      <td>-0.114719</td>\n",
              "      <td>0.343419</td>\n",
              "      <td>-0.201465</td>\n",
              "      <td>-0.133803</td>\n",
              "      <td>0.164884</td>\n",
              "      <td>-0.008060</td>\n",
              "      <td>0.157447</td>\n",
              "      <td>-0.026485</td>\n",
              "      <td>0.071611</td>\n",
              "      <td>0.251848</td>\n",
              "      <td>-0.413367</td>\n",
              "    </tr>\n",
              "    <tr>\n",
              "      <th>energy</th>\n",
              "      <td>-0.093521</td>\n",
              "      <td>-0.089708</td>\n",
              "      <td>1.000000</td>\n",
              "      <td>0.018833</td>\n",
              "      <td>0.674795</td>\n",
              "      <td>-0.009903</td>\n",
              "      <td>-0.011986</td>\n",
              "      <td>-0.546033</td>\n",
              "      <td>0.042093</td>\n",
              "      <td>0.156931</td>\n",
              "      <td>0.207941</td>\n",
              "      <td>0.138291</td>\n",
              "      <td>-0.021134</td>\n",
              "      <td>0.046451</td>\n",
              "      <td>0.221985</td>\n",
              "      <td>0.031247</td>\n",
              "      <td>0.028477</td>\n",
              "      <td>-0.278990</td>\n",
              "      <td>-0.058132</td>\n",
              "      <td>0.097377</td>\n",
              "    </tr>\n",
              "    <tr>\n",
              "      <th>key</th>\n",
              "      <td>-0.006878</td>\n",
              "      <td>0.002090</td>\n",
              "      <td>0.018833</td>\n",
              "      <td>1.000000</td>\n",
              "      <td>0.007280</td>\n",
              "      <td>-0.169589</td>\n",
              "      <td>0.026282</td>\n",
              "      <td>-0.002067</td>\n",
              "      <td>0.004243</td>\n",
              "      <td>0.000682</td>\n",
              "      <td>0.021927</td>\n",
              "      <td>-0.018967</td>\n",
              "      <td>0.016984</td>\n",
              "      <td>0.005536</td>\n",
              "      <td>-0.002799</td>\n",
              "      <td>0.011804</td>\n",
              "      <td>-0.010781</td>\n",
              "      <td>0.007031</td>\n",
              "      <td>0.011384</td>\n",
              "      <td>-0.014257</td>\n",
              "    </tr>\n",
              "    <tr>\n",
              "      <th>loudness</th>\n",
              "      <td>0.031290</td>\n",
              "      <td>0.022830</td>\n",
              "      <td>0.674795</td>\n",
              "      <td>0.007280</td>\n",
              "      <td>1.000000</td>\n",
              "      <td>-0.035276</td>\n",
              "      <td>0.029858</td>\n",
              "      <td>-0.370628</td>\n",
              "      <td>-0.099164</td>\n",
              "      <td>0.071159</td>\n",
              "      <td>0.050211</td>\n",
              "      <td>0.082558</td>\n",
              "      <td>-0.159026</td>\n",
              "      <td>0.360451</td>\n",
              "      <td>0.211981</td>\n",
              "      <td>0.071305</td>\n",
              "      <td>0.087022</td>\n",
              "      <td>-0.192820</td>\n",
              "      <td>0.015907</td>\n",
              "      <td>-0.146145</td>\n",
              "    </tr>\n",
              "    <tr>\n",
              "      <th>mode</th>\n",
              "      <td>0.010947</td>\n",
              "      <td>-0.078020</td>\n",
              "      <td>-0.009903</td>\n",
              "      <td>-0.169589</td>\n",
              "      <td>-0.035276</td>\n",
              "      <td>1.000000</td>\n",
              "      <td>-0.070013</td>\n",
              "      <td>0.022191</td>\n",
              "      <td>-0.002906</td>\n",
              "      <td>0.004850</td>\n",
              "      <td>-0.009382</td>\n",
              "      <td>0.026421</td>\n",
              "      <td>0.012433</td>\n",
              "      <td>-0.102181</td>\n",
              "      <td>-0.052884</td>\n",
              "      <td>-0.011702</td>\n",
              "      <td>0.024525</td>\n",
              "      <td>-0.052516</td>\n",
              "      <td>-0.045242</td>\n",
              "      <td>0.122119</td>\n",
              "    </tr>\n",
              "    <tr>\n",
              "      <th>speechiness</th>\n",
              "      <td>-0.000622</td>\n",
              "      <td>0.204041</td>\n",
              "      <td>-0.011986</td>\n",
              "      <td>0.026282</td>\n",
              "      <td>0.029858</td>\n",
              "      <td>-0.070013</td>\n",
              "      <td>1.000000</td>\n",
              "      <td>-0.000217</td>\n",
              "      <td>-0.108365</td>\n",
              "      <td>0.060072</td>\n",
              "      <td>0.035202</td>\n",
              "      <td>0.033620</td>\n",
              "      <td>-0.094343</td>\n",
              "      <td>0.141194</td>\n",
              "      <td>-0.072090</td>\n",
              "      <td>-0.020525</td>\n",
              "      <td>-0.168912</td>\n",
              "      <td>0.029059</td>\n",
              "      <td>0.459119</td>\n",
              "      <td>-0.229491</td>\n",
              "    </tr>\n",
              "    <tr>\n",
              "      <th>acousticness</th>\n",
              "      <td>0.076821</td>\n",
              "      <td>-0.029240</td>\n",
              "      <td>-0.546033</td>\n",
              "      <td>-0.002067</td>\n",
              "      <td>-0.370628</td>\n",
              "      <td>0.022191</td>\n",
              "      <td>-0.000217</td>\n",
              "      <td>1.000000</td>\n",
              "      <td>-0.015803</td>\n",
              "      <td>-0.067491</td>\n",
              "      <td>-0.069817</td>\n",
              "      <td>-0.096149</td>\n",
              "      <td>-0.052996</td>\n",
              "      <td>-0.002233</td>\n",
              "      <td>-0.156014</td>\n",
              "      <td>0.057801</td>\n",
              "      <td>-0.018231</td>\n",
              "      <td>0.183421</td>\n",
              "      <td>-0.022308</td>\n",
              "      <td>-0.061160</td>\n",
              "    </tr>\n",
              "    <tr>\n",
              "      <th>instrumentalness</th>\n",
              "      <td>-0.080933</td>\n",
              "      <td>-0.049187</td>\n",
              "      <td>0.042093</td>\n",
              "      <td>0.004243</td>\n",
              "      <td>-0.099164</td>\n",
              "      <td>-0.002906</td>\n",
              "      <td>-0.108365</td>\n",
              "      <td>-0.015803</td>\n",
              "      <td>1.000000</td>\n",
              "      <td>-0.000021</td>\n",
              "      <td>-0.103020</td>\n",
              "      <td>0.028126</td>\n",
              "      <td>0.078505</td>\n",
              "      <td>0.010352</td>\n",
              "      <td>0.202108</td>\n",
              "      <td>-0.063632</td>\n",
              "      <td>0.016590</td>\n",
              "      <td>-0.081453</td>\n",
              "      <td>-0.072411</td>\n",
              "      <td>0.024453</td>\n",
              "    </tr>\n",
              "    <tr>\n",
              "      <th>liveness</th>\n",
              "      <td>-0.059334</td>\n",
              "      <td>-0.114719</td>\n",
              "      <td>0.156931</td>\n",
              "      <td>0.000682</td>\n",
              "      <td>0.071159</td>\n",
              "      <td>0.004850</td>\n",
              "      <td>0.060072</td>\n",
              "      <td>-0.067491</td>\n",
              "      <td>-0.000021</td>\n",
              "      <td>1.000000</td>\n",
              "      <td>-0.006931</td>\n",
              "      <td>0.015658</td>\n",
              "      <td>0.026988</td>\n",
              "      <td>-0.024563</td>\n",
              "      <td>0.046619</td>\n",
              "      <td>-0.005222</td>\n",
              "      <td>-0.042894</td>\n",
              "      <td>-0.048307</td>\n",
              "      <td>0.021025</td>\n",
              "      <td>0.038528</td>\n",
              "    </tr>\n",
              "    <tr>\n",
              "      <th>valence</th>\n",
              "      <td>-0.004490</td>\n",
              "      <td>0.343419</td>\n",
              "      <td>0.207941</td>\n",
              "      <td>0.021927</td>\n",
              "      <td>0.050211</td>\n",
              "      <td>-0.009382</td>\n",
              "      <td>0.035202</td>\n",
              "      <td>-0.069817</td>\n",
              "      <td>-0.103020</td>\n",
              "      <td>-0.006931</td>\n",
              "      <td>1.000000</td>\n",
              "      <td>-0.017101</td>\n",
              "      <td>-0.045546</td>\n",
              "      <td>-0.222346</td>\n",
              "      <td>-0.172707</td>\n",
              "      <td>0.151620</td>\n",
              "      <td>-0.024370</td>\n",
              "      <td>0.029728</td>\n",
              "      <td>-0.022955</td>\n",
              "      <td>0.032560</td>\n",
              "    </tr>\n",
              "    <tr>\n",
              "      <th>tempo</th>\n",
              "      <td>0.011954</td>\n",
              "      <td>-0.201465</td>\n",
              "      <td>0.138291</td>\n",
              "      <td>-0.018967</td>\n",
              "      <td>0.082558</td>\n",
              "      <td>0.026421</td>\n",
              "      <td>0.033620</td>\n",
              "      <td>-0.096149</td>\n",
              "      <td>0.028126</td>\n",
              "      <td>0.015658</td>\n",
              "      <td>-0.017101</td>\n",
              "      <td>1.000000</td>\n",
              "      <td>-0.014873</td>\n",
              "      <td>0.013514</td>\n",
              "      <td>0.067022</td>\n",
              "      <td>-0.040109</td>\n",
              "      <td>0.004122</td>\n",
              "      <td>-0.111348</td>\n",
              "      <td>0.009222</td>\n",
              "      <td>0.074906</td>\n",
              "    </tr>\n",
              "    <tr>\n",
              "      <th>duration_ms</th>\n",
              "      <td>-0.143970</td>\n",
              "      <td>-0.133803</td>\n",
              "      <td>-0.021134</td>\n",
              "      <td>0.016984</td>\n",
              "      <td>-0.159026</td>\n",
              "      <td>0.012433</td>\n",
              "      <td>-0.094343</td>\n",
              "      <td>-0.052996</td>\n",
              "      <td>0.078505</td>\n",
              "      <td>0.026988</td>\n",
              "      <td>-0.045546</td>\n",
              "      <td>-0.014873</td>\n",
              "      <td>1.000000</td>\n",
              "      <td>-0.316828</td>\n",
              "      <td>-0.037969</td>\n",
              "      <td>-0.062849</td>\n",
              "      <td>-0.099998</td>\n",
              "      <td>0.103445</td>\n",
              "      <td>-0.077565</td>\n",
              "      <td>0.161988</td>\n",
              "    </tr>\n",
              "    <tr>\n",
              "      <th>year</th>\n",
              "      <td>0.079729</td>\n",
              "      <td>0.164884</td>\n",
              "      <td>0.046451</td>\n",
              "      <td>0.005536</td>\n",
              "      <td>0.360451</td>\n",
              "      <td>-0.102181</td>\n",
              "      <td>0.141194</td>\n",
              "      <td>-0.002233</td>\n",
              "      <td>0.010352</td>\n",
              "      <td>-0.024563</td>\n",
              "      <td>-0.222346</td>\n",
              "      <td>0.013514</td>\n",
              "      <td>-0.316828</td>\n",
              "      <td>1.000000</td>\n",
              "      <td>0.193926</td>\n",
              "      <td>0.114675</td>\n",
              "      <td>0.199226</td>\n",
              "      <td>-0.048911</td>\n",
              "      <td>0.101930</td>\n",
              "      <td>-0.510481</td>\n",
              "    </tr>\n",
              "    <tr>\n",
              "      <th>edm</th>\n",
              "      <td>-0.128232</td>\n",
              "      <td>-0.008060</td>\n",
              "      <td>0.221985</td>\n",
              "      <td>-0.002799</td>\n",
              "      <td>0.211981</td>\n",
              "      <td>-0.052884</td>\n",
              "      <td>-0.072090</td>\n",
              "      <td>-0.156014</td>\n",
              "      <td>0.202108</td>\n",
              "      <td>0.046619</td>\n",
              "      <td>-0.172707</td>\n",
              "      <td>0.067022</td>\n",
              "      <td>-0.037969</td>\n",
              "      <td>0.193926</td>\n",
              "      <td>1.000000</td>\n",
              "      <td>-0.129140</td>\n",
              "      <td>-0.185505</td>\n",
              "      <td>-0.165530</td>\n",
              "      <td>-0.167500</td>\n",
              "      <td>-0.171421</td>\n",
              "    </tr>\n",
              "    <tr>\n",
              "      <th>latin</th>\n",
              "      <td>0.039541</td>\n",
              "      <td>0.157447</td>\n",
              "      <td>0.031247</td>\n",
              "      <td>0.011804</td>\n",
              "      <td>0.071305</td>\n",
              "      <td>-0.011702</td>\n",
              "      <td>-0.020525</td>\n",
              "      <td>0.057801</td>\n",
              "      <td>-0.063632</td>\n",
              "      <td>-0.005222</td>\n",
              "      <td>0.151620</td>\n",
              "      <td>-0.040109</td>\n",
              "      <td>-0.062849</td>\n",
              "      <td>0.114675</td>\n",
              "      <td>-0.129140</td>\n",
              "      <td>1.000000</td>\n",
              "      <td>-0.192223</td>\n",
              "      <td>-0.171524</td>\n",
              "      <td>-0.173565</td>\n",
              "      <td>-0.177629</td>\n",
              "    </tr>\n",
              "    <tr>\n",
              "      <th>pop</th>\n",
              "      <td>0.118376</td>\n",
              "      <td>-0.026485</td>\n",
              "      <td>0.028477</td>\n",
              "      <td>-0.010781</td>\n",
              "      <td>0.087022</td>\n",
              "      <td>0.024525</td>\n",
              "      <td>-0.168912</td>\n",
              "      <td>-0.018231</td>\n",
              "      <td>0.016590</td>\n",
              "      <td>-0.042894</td>\n",
              "      <td>-0.024370</td>\n",
              "      <td>0.004122</td>\n",
              "      <td>-0.099998</td>\n",
              "      <td>0.199226</td>\n",
              "      <td>-0.185505</td>\n",
              "      <td>-0.192223</td>\n",
              "      <td>1.000000</td>\n",
              "      <td>-0.246389</td>\n",
              "      <td>-0.249321</td>\n",
              "      <td>-0.255158</td>\n",
              "    </tr>\n",
              "    <tr>\n",
              "      <th>r&amp;b</th>\n",
              "      <td>-0.064552</td>\n",
              "      <td>0.071611</td>\n",
              "      <td>-0.278990</td>\n",
              "      <td>0.007031</td>\n",
              "      <td>-0.192820</td>\n",
              "      <td>-0.052516</td>\n",
              "      <td>0.029059</td>\n",
              "      <td>0.183421</td>\n",
              "      <td>-0.081453</td>\n",
              "      <td>-0.048307</td>\n",
              "      <td>0.029728</td>\n",
              "      <td>-0.111348</td>\n",
              "      <td>0.103445</td>\n",
              "      <td>-0.048911</td>\n",
              "      <td>-0.165530</td>\n",
              "      <td>-0.171524</td>\n",
              "      <td>-0.246389</td>\n",
              "      <td>1.000000</td>\n",
              "      <td>-0.222474</td>\n",
              "      <td>-0.227683</td>\n",
              "    </tr>\n",
              "    <tr>\n",
              "      <th>rap</th>\n",
              "      <td>0.015642</td>\n",
              "      <td>0.251848</td>\n",
              "      <td>-0.058132</td>\n",
              "      <td>0.011384</td>\n",
              "      <td>0.015907</td>\n",
              "      <td>-0.045242</td>\n",
              "      <td>0.459119</td>\n",
              "      <td>-0.022308</td>\n",
              "      <td>-0.072411</td>\n",
              "      <td>0.021025</td>\n",
              "      <td>-0.022955</td>\n",
              "      <td>0.009222</td>\n",
              "      <td>-0.077565</td>\n",
              "      <td>0.101930</td>\n",
              "      <td>-0.167500</td>\n",
              "      <td>-0.173565</td>\n",
              "      <td>-0.249321</td>\n",
              "      <td>-0.222474</td>\n",
              "      <td>1.000000</td>\n",
              "      <td>-0.230392</td>\n",
              "    </tr>\n",
              "    <tr>\n",
              "      <th>rock</th>\n",
              "      <td>-0.006348</td>\n",
              "      <td>-0.413367</td>\n",
              "      <td>0.097377</td>\n",
              "      <td>-0.014257</td>\n",
              "      <td>-0.146145</td>\n",
              "      <td>0.122119</td>\n",
              "      <td>-0.229491</td>\n",
              "      <td>-0.061160</td>\n",
              "      <td>0.024453</td>\n",
              "      <td>0.038528</td>\n",
              "      <td>0.032560</td>\n",
              "      <td>0.074906</td>\n",
              "      <td>0.161988</td>\n",
              "      <td>-0.510481</td>\n",
              "      <td>-0.171421</td>\n",
              "      <td>-0.177629</td>\n",
              "      <td>-0.255158</td>\n",
              "      <td>-0.227683</td>\n",
              "      <td>-0.230392</td>\n",
              "      <td>1.000000</td>\n",
              "    </tr>\n",
              "  </tbody>\n",
              "</table>\n",
              "</div>"
            ],
            "text/plain": [
              "                  track_popularity  danceability  ...       rap      rock\n",
              "track_popularity          1.000000      0.061499  ...  0.015642 -0.006348\n",
              "danceability              0.061499      1.000000  ...  0.251848 -0.413367\n",
              "energy                   -0.093521     -0.089708  ... -0.058132  0.097377\n",
              "key                      -0.006878      0.002090  ...  0.011384 -0.014257\n",
              "loudness                  0.031290      0.022830  ...  0.015907 -0.146145\n",
              "mode                      0.010947     -0.078020  ... -0.045242  0.122119\n",
              "speechiness              -0.000622      0.204041  ...  0.459119 -0.229491\n",
              "acousticness              0.076821     -0.029240  ... -0.022308 -0.061160\n",
              "instrumentalness         -0.080933     -0.049187  ... -0.072411  0.024453\n",
              "liveness                 -0.059334     -0.114719  ...  0.021025  0.038528\n",
              "valence                  -0.004490      0.343419  ... -0.022955  0.032560\n",
              "tempo                     0.011954     -0.201465  ...  0.009222  0.074906\n",
              "duration_ms              -0.143970     -0.133803  ... -0.077565  0.161988\n",
              "year                      0.079729      0.164884  ...  0.101930 -0.510481\n",
              "edm                      -0.128232     -0.008060  ... -0.167500 -0.171421\n",
              "latin                     0.039541      0.157447  ... -0.173565 -0.177629\n",
              "pop                       0.118376     -0.026485  ... -0.249321 -0.255158\n",
              "r&b                      -0.064552      0.071611  ... -0.222474 -0.227683\n",
              "rap                       0.015642      0.251848  ...  1.000000 -0.230392\n",
              "rock                     -0.006348     -0.413367  ... -0.230392  1.000000\n",
              "\n",
              "[20 rows x 20 columns]"
            ]
          },
          "metadata": {},
          "execution_count": 90
        }
      ]
    },
    {
      "cell_type": "code",
      "metadata": {
        "colab": {
          "base_uri": "https://localhost:8080/",
          "height": 346
        },
        "id": "a61CZHZbB_hT",
        "outputId": "327b0531-9fbe-460d-f216-420b8a411c4b"
      },
      "source": [
        "sns.heatmap(spotify_maingenres.corr(),\n",
        "            center = 0,\n",
        "            cmap = sns.color_palette(\"vlag\", as_cmap=True),\n",
        "            )\n",
        "plt.show()"
      ],
      "execution_count": null,
      "outputs": [
        {
          "output_type": "display_data",
          "data": {
            "image/png": "[encoded data removed]",
            "text/plain": [
              "<Figure size 432x288 with 2 Axes>"
            ]
          },
          "metadata": {
            "needs_background": "light"
          }
        }
      ]
    },
    {
      "cell_type": "code",
      "metadata": {
        "id": "WiLxWhuHDF8I"
      },
      "source": [
        "print(np.sum(spotify_maingenres.corr() > 0.5)) \n",
        "print(np.sum(spotify_maingenres.corr() < -0.5))"
      ],
      "execution_count": null,
      "outputs": []
    },
    {
      "cell_type": "code",
      "metadata": {
        "colab": {
          "base_uri": "https://localhost:8080/"
        },
        "id": "d7S2vCkLDuQ8",
        "outputId": "547a9a29-9450-499a-9328-45ea287a222a"
      },
      "source": [
        "\n",
        "print(spotify.pivot_table(values = [\"track_id\", \"loudness\", \"danceability\",\t\"energy\",\t\"key\",\t\"mode\",\t\"speechiness\",\t\"acousticness\",\t\\\n",
        "                                    \"instrumentalness\",\t\"liveness\",\t\"valence\",\t\"tempo\",\t\"duration_ms\"], index = \"playlist_subgenre\", \\\n",
        "                          aggfunc={\"track_id\":\"count\", \"loudness\": \"mean\", \"danceability\": \"mean\",\t\"energy\": \"mean\",\t\"key\": \"mean\",\t\"mode\": \"mean\",\\\n",
        "                                   \"speechiness\": \"mean\",\t\"acousticness\": \"mean\",\t\"instrumentalness\": \"mean\",\t\"liveness\": \"mean\",\t\"valence\": \"mean\",\\\n",
        "                                   \"tempo\": \"mean\",\t\"duration_ms\": \"mean\"}).sort_values(by = \"track_id\", ascending = False))"
      ],
      "execution_count": null,
      "outputs": [
        {
          "output_type": "stream",
          "name": "stdout",
          "text": [
            "                           acousticness  danceability  ...  track_id   valence\n",
            "playlist_subgenre                                      ...                    \n",
            "indie poptimism                0.227738      0.623902  ...      1288  0.464140\n",
            "southern hip hop               0.117853      0.708974  ...      1158  0.544583\n",
            "neo soul                       0.315956      0.643286  ...      1001  0.501202\n",
            "electropop                     0.133996      0.639820  ...       964  0.521197\n",
            "urban contemporary             0.314243      0.640040  ...       936  0.463782\n",
            "hard rock                      0.049481      0.478299  ...       926  0.472390\n",
            "classic rock                   0.196852      0.541994  ...       924  0.610733\n",
            "post-teen pop                  0.140801      0.633199  ...       891  0.563136\n",
            "new jack swing                 0.137572      0.721216  ...       881  0.656687\n",
            "gangster rap                   0.141301      0.722049  ...       865  0.496159\n",
            "dance pop                      0.143580      0.655296  ...       850  0.511052\n",
            "permanent wave                 0.147020      0.526800  ...       843  0.542045\n",
            "album rock                     0.204310      0.519505  ...       828  0.517306\n",
            "hip hop                        0.203092      0.739710  ...       689  0.515238\n",
            "trap                           0.237487      0.734781  ...       679  0.461008\n",
            "latin hip hop                  0.152112      0.720991  ...       673  0.630942\n",
            "progressive electro house      0.059694      0.629505  ...       652  0.391611\n",
            "latin pop                      0.273524      0.670859  ...       594  0.609043\n",
            "pop edm                        0.118630      0.632003  ...       575  0.458803\n",
            "hip pop                        0.265676      0.669281  ...       508  0.522430\n",
            "electro house                  0.084562      0.686023  ...       484  0.424392\n",
            "tropical                       0.227624      0.691436  ...       473  0.528136\n",
            "reggaeton                      0.192576      0.759559  ...       438  0.694347\n",
            "big room                       0.041013      0.611482  ...       334  0.333119\n",
            "\n",
            "[24 rows x 13 columns]\n"
          ]
        }
      ]
    },
    {
      "cell_type": "code",
      "metadata": {
        "colab": {
          "base_uri": "https://localhost:8080/"
        },
        "id": "4O2FGs1aOrAM",
        "outputId": "53980ce3-5519-4de7-d296-2d79bee0a492"
      },
      "source": [
        "spotify_maingenres.columns"
      ],
      "execution_count": null,
      "outputs": [
        {
          "output_type": "execute_result",
          "data": {
            "text/plain": [
              "Index(['track_id', 'track_name', 'track_artist', 'lyrics', 'track_popularity',\n",
              "       'track_album_id', 'track_album_name', 'track_album_release_date',\n",
              "       'playlist_name', 'playlist_id', 'playlist_genre', 'playlist_subgenre',\n",
              "       'danceability', 'energy', 'key', 'loudness', 'mode', 'speechiness',\n",
              "       'acousticness', 'instrumentalness', 'liveness', 'valence', 'tempo',\n",
              "       'duration_ms', 'language', 'len of release', 'year', 'edm', 'latin',\n",
              "       'pop', 'r&b', 'rap', 'rock'],\n",
              "      dtype='object')"
            ]
          },
          "metadata": {},
          "execution_count": 59
        }
      ]
    },
    {
      "cell_type": "markdown",
      "metadata": {
        "id": "mu8h4jrLhOci"
      },
      "source": [
        "## Visualization / pairplot"
      ]
    },
    {
      "cell_type": "code",
      "metadata": {
        "id": "y7K7qdZ0P_oV"
      },
      "source": [
        "pairplot = spotify_maingenres[[\"playlist_genre\", \"loudness\", \"track_popularity\", \"danceability\",\t\"energy\",\t\"key\",\t\"mode\",\t\"speechiness\",\t\"acousticness\",\t\\\n",
        "                                    \"instrumentalness\",\t\"liveness\",\t\"valence\",\t\"tempo\",\t\"duration_ms\"]].sample(frac=0.2, random_state = 24)"
      ],
      "execution_count": null,
      "outputs": []
    },
    {
      "cell_type": "code",
      "metadata": {
        "id": "Vy1sWjYLF6Dv"
      },
      "source": [
        "sns.pairplot(data = spotify_maingenres[['track_popularity', 'playlist_genre', 'danceability', 'energy', 'key', 'loudness', 'mode', 'speechiness', \\\n",
        "                                        'acousticness', 'instrumentalness', 'liveness', 'valence', 'tempo','duration_ms', 'year', 'edm', 'latin', \\\n",
        "                                        'pop', 'r&b', 'rap', 'rock']].sample(frac=0.2, random_state = 24),\n",
        "             hue = \"playlist_genre\")\n",
        "plt.show()"
      ],
      "execution_count": null,
      "outputs": []
    },
    {
      "cell_type": "code",
      "metadata": {
        "colab": {
          "base_uri": "https://localhost:8080/"
        },
        "id": "DKQQVn6BSKJx",
        "outputId": "1ab1673c-9851-49a7-be81-275a83632fc7"
      },
      "source": [
        "columns_features = ['danceability', 'energy', 'key', 'loudness', 'mode', 'speechiness', 'acousticness', 'instrumentalness', 'liveness', \\\n",
        "                    'valence', 'tempo']\n",
        "len(columns_features)"
      ],
      "execution_count": null,
      "outputs": [
        {
          "output_type": "execute_result",
          "data": {
            "text/plain": [
              "11"
            ]
          },
          "metadata": {},
          "execution_count": 69
        }
      ]
    },
    {
      "cell_type": "markdown",
      "metadata": {
        "id": "mOjK-fysgoa2"
      },
      "source": [
        "# Creating compact dataset"
      ]
    },
    {
      "cell_type": "markdown",
      "metadata": {
        "id": "pBscr4tyJc-P"
      },
      "source": [
        "**If completely rerun the colab** start with spotify and year column!"
      ]
    },
    {
      "cell_type": "markdown",
      "metadata": {
        "id": "44J4f4n1IMta"
      },
      "source": [
        "**1 step**: creating from all spotify columns"
      ]
    },
    {
      "cell_type": "code",
      "metadata": {
        "id": "IrhcPMiXYV2h"
      },
      "source": [
        "spotify_compact = spotify[['track_id', 'track_name', 'track_artist', 'lyrics', 'track_popularity', 'track_album_name', 'playlist_name', 'playlist_id', \\\n",
        "                           'playlist_genre', 'playlist_subgenre', 'danceability', 'energy', 'key', 'loudness', 'mode', 'speechiness', 'acousticness',\\\n",
        "                           'instrumentalness', 'liveness', 'valence', 'tempo', 'duration_ms', 'language', 'year']].copy()"
      ],
      "execution_count": null,
      "outputs": []
    },
    {
      "cell_type": "markdown",
      "metadata": {
        "id": "MPeJNLvDIP8u"
      },
      "source": [
        "**2nd step**: creating decade column"
      ]
    },
    {
      "cell_type": "code",
      "metadata": {
        "id": "iFkZikjGZJv-"
      },
      "source": [
        "spotify_compact[\"decade\"] = spotify_compact[\"year\"].apply(lambda x: 1950 if 1960> x >= 1950 else 1960 if 1970> x >= 1960 else 1970 if 1980> x >= 1970 \\\n",
        "                                                          else 1980 if 1990 > x >=1980 else 1990 if 2000 > x >= 1990 else 2000 if 2010 > x >= 2000 \\\n",
        "                                                          else 2010 if 2020 > x >= 2010 else 2020)"
      ],
      "execution_count": null,
      "outputs": []
    },
    {
      "cell_type": "code",
      "metadata": {
        "colab": {
          "base_uri": "https://localhost:8080/"
        },
        "id": "dQmVkWvwahpe",
        "outputId": "24e93a74-b490-4493-8124-ac1faa40da05"
      },
      "source": [
        "spotify_compact.columns"
      ],
      "execution_count": null,
      "outputs": [
        {
          "output_type": "execute_result",
          "data": {
            "text/plain": [
              "Index(['track_id', 'track_name', 'track_artist', 'lyrics', 'track_popularity',\n",
              "       'track_album_name', 'playlist_name', 'playlist_id', 'playlist_genre',\n",
              "       'playlist_subgenre', 'danceability', 'energy', 'key', 'loudness',\n",
              "       'mode', 'speechiness', 'acousticness', 'instrumentalness', 'liveness',\n",
              "       'valence', 'tempo', 'duration_ms', 'language', 'year', 'decade'],\n",
              "      dtype='object')"
            ]
          },
          "metadata": {},
          "execution_count": 79
        }
      ]
    },
    {
      "cell_type": "markdown",
      "metadata": {
        "id": "lURO8KsTIStV"
      },
      "source": [
        "**3rd step**: dropping year"
      ]
    },
    {
      "cell_type": "code",
      "metadata": {
        "id": "2Z8NtoI2apfo"
      },
      "source": [
        "spotify_compact = spotify_compact[['track_id', 'track_name', 'track_artist', 'track_popularity', 'track_album_name', \\\n",
        "                                   'danceability', 'energy', 'speechiness','decade']]"
      ],
      "execution_count": null,
      "outputs": []
    },
    {
      "cell_type": "code",
      "metadata": {
        "id": "g_Kbvs0YoTsk"
      },
      "source": [
        "# Check if decade was working\n",
        "# spotify[spotify_compact[\"decade\"] == 2020]"
      ],
      "execution_count": null,
      "outputs": []
    },
    {
      "cell_type": "code",
      "metadata": {
        "colab": {
          "base_uri": "https://localhost:8080/"
        },
        "id": "3AAeKKHJonJ4",
        "outputId": "e9bd661e-195d-4512-c7bd-271a536dafce"
      },
      "source": [
        "# Check if decade was working\n",
        "# spotify_compact[\"decade\"].unique()"
      ],
      "execution_count": null,
      "outputs": [
        {
          "output_type": "execute_result",
          "data": {
            "text/plain": [
              "array([2000, 2010, 1990, 1980, 1970, 2020, 1960, 1950])"
            ]
          },
          "metadata": {},
          "execution_count": 111
        }
      ]
    },
    {
      "cell_type": "markdown",
      "metadata": {
        "id": "gG96WqY9IXu0"
      },
      "source": [
        "**4th step**: sort the dataset based on popularity"
      ]
    },
    {
      "cell_type": "code",
      "metadata": {
        "id": "rPYmnpDlvHNq"
      },
      "source": [
        "spotify_compact = spotify_compact.sort_values(by = \"track_popularity\", ascending = False)"
      ],
      "execution_count": null,
      "outputs": []
    },
    {
      "cell_type": "markdown",
      "metadata": {
        "id": "LiuWY5GOIf59"
      },
      "source": [
        "**5th step**: create the links instead of id"
      ]
    },
    {
      "cell_type": "code",
      "metadata": {
        "id": "WChuW4J9x7uM"
      },
      "source": [
        "spotify_compact[\"track_id\"] = spotify[\"track_id\"].apply(lambda x: \"https://open.spotify.com/track/\" + x)"
      ],
      "execution_count": null,
      "outputs": []
    },
    {
      "cell_type": "markdown",
      "metadata": {
        "id": "HtF1vKSeIiSG"
      },
      "source": [
        "**6th step**: rename some columns"
      ]
    },
    {
      "cell_type": "code",
      "metadata": {
        "id": "mzHchX0REMQu"
      },
      "source": [
        "spotify_compact.rename(columns={\"track_artist\": \"Artist\", \"track_name\": \"Track Name\", \"track_album_name\": \"Album\", \"track_id\": \"Link\"}, inplace=True)"
      ],
      "execution_count": null,
      "outputs": []
    },
    {
      "cell_type": "code",
      "metadata": {
        "colab": {
          "base_uri": "https://localhost:8080/",
          "height": 428
        },
        "id": "leMv6AF7idvh",
        "outputId": "f2c243b5-b203-4faf-958b-70807fb18141"
      },
      "source": [
        "spotify_compact.columns\n",
        "spotify_compact.head()"
      ],
      "execution_count": null,
      "outputs": [
        {
          "output_type": "execute_result",
          "data": {
            "text/html": [
              "<div>\n",
              "<style scoped>\n",
              "    .dataframe tbody tr th:only-of-type {\n",
              "        vertical-align: middle;\n",
              "    }\n",
              "\n",
              "    .dataframe tbody tr th {\n",
              "        vertical-align: top;\n",
              "    }\n",
              "\n",
              "    .dataframe thead th {\n",
              "        text-align: right;\n",
              "    }\n",
              "</style>\n",
              "<table border=\"1\" class=\"dataframe\">\n",
              "  <thead>\n",
              "    <tr style=\"text-align: right;\">\n",
              "      <th></th>\n",
              "      <th>Artist</th>\n",
              "      <th>Track Name</th>\n",
              "      <th>Album</th>\n",
              "      <th>Link</th>\n",
              "      <th>track_popularity</th>\n",
              "      <th>danceability</th>\n",
              "      <th>energy</th>\n",
              "      <th>speechiness</th>\n",
              "      <th>decade</th>\n",
              "    </tr>\n",
              "  </thead>\n",
              "  <tbody>\n",
              "    <tr>\n",
              "      <th>6925</th>\n",
              "      <td>Tones and I</td>\n",
              "      <td>Dance Monkey</td>\n",
              "      <td>Dance Monkey (Stripped Back) / Dance Monkey</td>\n",
              "      <td>https://open.spotify.com/track/2XU0oxnq2qxCpom...</td>\n",
              "      <td>100</td>\n",
              "      <td>0.824</td>\n",
              "      <td>0.588</td>\n",
              "      <td>0.0924</td>\n",
              "      <td>2010</td>\n",
              "    </tr>\n",
              "    <tr>\n",
              "      <th>14477</th>\n",
              "      <td>Arizona Zervas</td>\n",
              "      <td>ROXANNE</td>\n",
              "      <td>ROXANNE</td>\n",
              "      <td>https://open.spotify.com/track/696DnlkuDOXcMAn...</td>\n",
              "      <td>99</td>\n",
              "      <td>0.621</td>\n",
              "      <td>0.601</td>\n",
              "      <td>0.1480</td>\n",
              "      <td>2010</td>\n",
              "    </tr>\n",
              "    <tr>\n",
              "      <th>4813</th>\n",
              "      <td>Post Malone</td>\n",
              "      <td>Circles</td>\n",
              "      <td>Hollywood's Bleeding</td>\n",
              "      <td>https://open.spotify.com/track/21jGcNKet2qwijl...</td>\n",
              "      <td>98</td>\n",
              "      <td>0.695</td>\n",
              "      <td>0.762</td>\n",
              "      <td>0.0395</td>\n",
              "      <td>2010</td>\n",
              "    </tr>\n",
              "    <tr>\n",
              "      <th>1754</th>\n",
              "      <td>The Weeknd</td>\n",
              "      <td>Blinding Lights</td>\n",
              "      <td>Blinding Lights</td>\n",
              "      <td>https://open.spotify.com/track/0sf12qNH5qcw8qp...</td>\n",
              "      <td>98</td>\n",
              "      <td>0.513</td>\n",
              "      <td>0.796</td>\n",
              "      <td>0.0629</td>\n",
              "      <td>2010</td>\n",
              "    </tr>\n",
              "    <tr>\n",
              "      <th>1375</th>\n",
              "      <td>Roddy Ricch</td>\n",
              "      <td>The Box</td>\n",
              "      <td>Please Excuse Me For Being Antisocial</td>\n",
              "      <td>https://open.spotify.com/track/0nbXyq5TXYPCO7p...</td>\n",
              "      <td>98</td>\n",
              "      <td>0.896</td>\n",
              "      <td>0.586</td>\n",
              "      <td>0.0559</td>\n",
              "      <td>2010</td>\n",
              "    </tr>\n",
              "  </tbody>\n",
              "</table>\n",
              "</div>"
            ],
            "text/plain": [
              "               Artist       Track Name  ... speechiness decade\n",
              "6925      Tones and I     Dance Monkey  ...      0.0924   2010\n",
              "14477  Arizona Zervas          ROXANNE  ...      0.1480   2010\n",
              "4813      Post Malone          Circles  ...      0.0395   2010\n",
              "1754       The Weeknd  Blinding Lights  ...      0.0629   2010\n",
              "1375      Roddy Ricch          The Box  ...      0.0559   2010\n",
              "\n",
              "[5 rows x 9 columns]"
            ]
          },
          "metadata": {},
          "execution_count": 13
        }
      ]
    },
    {
      "cell_type": "markdown",
      "metadata": {
        "id": "ei29x1hDInsD"
      },
      "source": [
        "**7th step**: adjust the order of columns"
      ]
    },
    {
      "cell_type": "code",
      "metadata": {
        "id": "pAm4nmH7Eny-"
      },
      "source": [
        "spotify_compact = spotify_compact[[\"Artist\", \"Track Name\", \"Album\", \"Link\", 'track_popularity',\\\n",
        "                                   'danceability', 'energy', 'speechiness','decade']]"
      ],
      "execution_count": null,
      "outputs": []
    },
    {
      "cell_type": "markdown",
      "metadata": {
        "id": "sRqGQ5ZgIpeO"
      },
      "source": [
        "**Save it**"
      ]
    },
    {
      "cell_type": "code",
      "metadata": {
        "id": "vCy2D339dlY1"
      },
      "source": [
        "spotify_compact.to_csv('/content/drive/MyDrive/spotify_clean.csv',  index = False)"
      ],
      "execution_count": null,
      "outputs": []
    },
    {
      "cell_type": "markdown",
      "metadata": {
        "id": "2PSn67tNjK1w"
      },
      "source": [
        "# Clustering tracks"
      ]
    },
    {
      "cell_type": "code",
      "metadata": {
        "id": "fytqBny7fgPm"
      },
      "source": [
        "from sklearn.cluster import KMeans\n",
        "from sklearn.preprocessing import StandardScaler\n",
        "from sklearn.metrics import silhouette_score"
      ],
      "execution_count": null,
      "outputs": []
    },
    {
      "cell_type": "code",
      "metadata": {
        "id": "fbDD2ImUlqh1"
      },
      "source": [
        "# All the numerical columns\n",
        "X = spotify_compact[['track_popularity', 'danceability', 'energy', 'key', 'loudness', 'mode', 'speechiness', \\\n",
        "                     'acousticness', 'instrumentalness', 'liveness', 'valence', 'tempo', 'duration_ms', 'decade']]\n",
        "\n",
        "# Standardize the data:\n",
        "scaler = StandardScaler()\n",
        "scaler.fit(X)\n",
        "X_scaled = scaler.transform(X)"
      ],
      "execution_count": null,
      "outputs": []
    },
    {
      "cell_type": "code",
      "metadata": {
        "colab": {
          "base_uri": "https://localhost:8080/"
        },
        "id": "44BwCfd1lEEG",
        "outputId": "16e204b7-2a0a-4118-fc5b-958c64dc3bd6"
      },
      "source": [
        "silhouette_list = []\n",
        "for item2 in range(2,20):\n",
        "    modelKM = KMeans(n_clusters=item2, random_state = 24)\n",
        "    modelKM.fit(X_scaled)\n",
        "    silhouette_list.append(silhouette_score(X_scaled, modelKM.labels_))\n",
        "    \n",
        "print(\"The best option to create \"+ str(silhouette_list.index(max(silhouette_list))+2) + \\\n",
        "      \" clusters, where silhouette score is :\" + str(max(silhouette_list)) + \".\")"
      ],
      "execution_count": null,
      "outputs": [
        {
          "output_type": "stream",
          "name": "stdout",
          "text": [
            "The best option to create 2 clusters, where silhouette score is :0.14220787626198245.\n"
          ]
        }
      ]
    },
    {
      "cell_type": "markdown",
      "metadata": {
        "id": "Yxnmi0Q1DuZk"
      },
      "source": [
        "# Trying out different filters / vibe categories"
      ]
    },
    {
      "cell_type": "code",
      "metadata": {
        "id": "bv6tABQ1mhXQ"
      },
      "source": [
        "sns.histplot(x = spotify_compact[\"tempo\"], hue = spotify_compact[\"playlist_genre\"])\n",
        "plt.show()"
      ],
      "execution_count": null,
      "outputs": []
    },
    {
      "cell_type": "code",
      "metadata": {
        "id": "2AKQrYDIryHP"
      },
      "source": [
        "sns.histplot(x = spotify_compact[\"energy\"], hue = spotify_compact[\"playlist_genre\"])\n",
        "plt.show()"
      ],
      "execution_count": null,
      "outputs": []
    },
    {
      "cell_type": "code",
      "metadata": {
        "id": "RVATKhJ8rAXi"
      },
      "source": [
        "# Energy\n",
        "sns.boxplot(x = spotify_compact[\"playlist_genre\"], y = spotify_compact[\"energy\"])\n",
        "plt.show()"
      ],
      "execution_count": null,
      "outputs": []
    },
    {
      "cell_type": "code",
      "metadata": {
        "id": "7xrJtrDhrfrG"
      },
      "source": [
        "# Tempo\n",
        "sns.boxplot(x = spotify_compact[\"playlist_genre\"], y = spotify_compact[\"tempo\"])\n",
        "plt.show()"
      ],
      "execution_count": null,
      "outputs": []
    },
    {
      "cell_type": "code",
      "metadata": {
        "id": "IWaWm8GhsjXV"
      },
      "source": [
        "spotify_compact.columns"
      ],
      "execution_count": null,
      "outputs": []
    },
    {
      "cell_type": "code",
      "metadata": {
        "id": "ieXMujgpsPmF"
      },
      "source": [
        "# Dance\n",
        "sns.boxplot(x = spotify_compact[\"playlist_genre\"], y = spotify_compact[\"danceability\"])\n",
        "plt.show()"
      ],
      "execution_count": null,
      "outputs": []
    },
    {
      "cell_type": "code",
      "metadata": {
        "id": "RyR6qoPZsxlH"
      },
      "source": [
        "# Key\n",
        "sns.boxplot(x = spotify_compact[\"playlist_genre\"], y = spotify_compact[\"key\"])\n",
        "plt.show()"
      ],
      "execution_count": null,
      "outputs": []
    },
    {
      "cell_type": "code",
      "metadata": {
        "id": "ebgh14_Ds58m"
      },
      "source": [
        "# Loudness\n",
        "sns.boxplot(x = spotify_compact[\"playlist_genre\"], y = spotify_compact[\"loudness\"])\n",
        "plt.show()"
      ],
      "execution_count": null,
      "outputs": []
    },
    {
      "cell_type": "code",
      "metadata": {
        "id": "NLrYzS6btAJd"
      },
      "source": [
        "# Speechiness\n",
        "sns.boxplot(x = spotify_compact[\"playlist_genre\"], y = spotify_compact[\"speechiness\"])\n",
        "plt.show()"
      ],
      "execution_count": null,
      "outputs": []
    },
    {
      "cell_type": "code",
      "metadata": {
        "id": "lbdfwZprtFSX"
      },
      "source": [
        "# Acousticness\n",
        "sns.boxplot(x = spotify_compact[\"playlist_genre\"], y = spotify_compact[\"acousticness\"])\n",
        "plt.show()"
      ],
      "execution_count": null,
      "outputs": []
    },
    {
      "cell_type": "code",
      "metadata": {
        "id": "WZfqAp-ltREv"
      },
      "source": [
        "# Instrumentalness\n",
        "sns.boxplot(x = spotify_compact[\"playlist_genre\"], y = spotify_compact[\"instrumentalness\"])\n",
        "plt.show()"
      ],
      "execution_count": null,
      "outputs": []
    },
    {
      "cell_type": "code",
      "metadata": {
        "id": "c4mkGtATtU8Z"
      },
      "source": [
        "# Liveness\n",
        "sns.boxplot(x = spotify_compact[\"playlist_genre\"], y = spotify_compact[\"liveness\"])\n",
        "plt.show()"
      ],
      "execution_count": null,
      "outputs": []
    },
    {
      "cell_type": "code",
      "metadata": {
        "id": "rKv1C_hLtYog"
      },
      "source": [
        "# Valence\n",
        "sns.boxplot(x = spotify_compact[\"playlist_genre\"], y = spotify_compact[\"valence\"])\n",
        "plt.show()"
      ],
      "execution_count": null,
      "outputs": []
    },
    {
      "cell_type": "markdown",
      "metadata": {
        "id": "USeq2gFevws2"
      },
      "source": [
        "Music vibes: \n",
        "- chill // energy <0.71 & 0.75> danceability > 0.55 // 4017  rows\n",
        "- energetic and upbeat // energy > 0.71 & danceability > 0.66 // 4152 rows\n",
        "- feelgood // 0.83 > energy >0.57 // 9063 rows\n",
        "- cozy evening // energy <0.71 and danceability < 0.66 // 3977 rows\n",
        "- cheerful and fun // energy > 0.71 & danceability > 0.55 // 6667\n",
        "- friday night fever // energy > 0.71 & danceability > 0.66 // 4152\n",
        "- friendly and calm // 0.75> danceability > 0.55 // 8773"
      ]
    },
    {
      "cell_type": "code",
      "metadata": {
        "id": "5KUyfopcBngO"
      },
      "source": [
        "# Chill\n",
        "chill = spotify_compact[(spotify_compact[\"energy\"] < 0.71) & (spotify_compact[\"danceability\"] > 0.55) & (spotify_compact[\"danceability\"] < 0.75)]"
      ],
      "execution_count": null,
      "outputs": []
    },
    {
      "cell_type": "code",
      "metadata": {
        "id": "GcFdQQhRCc1D"
      },
      "source": [
        "# Energetic and upbeat\n",
        "energetic_and_upbeat = spotify_compact[(spotify_compact[\"energy\"] > 0.71) & (spotify_compact[\"danceability\"] > 0.66)]"
      ],
      "execution_count": null,
      "outputs": []
    },
    {
      "cell_type": "code",
      "metadata": {
        "id": "ARsAtuTyCAxd"
      },
      "source": [
        "# Feelgood\n",
        "feelgood = spotify_compact[(spotify_compact[\"energy\"] > 0.57) & (spotify_compact[\"energy\"] < 0.83)]"
      ],
      "execution_count": null,
      "outputs": []
    },
    {
      "cell_type": "code",
      "metadata": {
        "id": "bRqMXCveCyRh"
      },
      "source": [
        "# Cozy evening\n",
        "cozy_evening = spotify_compact[(spotify_compact[\"energy\"] < 0.71) & (spotify_compact[\"danceability\"] < 0.66)]"
      ],
      "execution_count": null,
      "outputs": []
    },
    {
      "cell_type": "code",
      "metadata": {
        "id": "ojKKw8tGDA1V"
      },
      "source": [
        "# Cheerful and fun \n",
        "cheerful_and_fun = spotify_compact[(spotify_compact[\"energy\"] > 0.71) & (spotify_compact[\"danceability\"] > 0.55)]"
      ],
      "execution_count": null,
      "outputs": []
    },
    {
      "cell_type": "code",
      "metadata": {
        "id": "u3VuO3GBDMnQ"
      },
      "source": [
        "# Friday night fever\n",
        "friday_night_fever = spotify_compact[(spotify_compact[\"energy\"] > 0.71) & (spotify_compact[\"danceability\"] > 0.66)]"
      ],
      "execution_count": null,
      "outputs": []
    },
    {
      "cell_type": "code",
      "metadata": {
        "id": "_n0HcNoDDWAj"
      },
      "source": [
        "# Friendly and calm\n",
        "friendly_and_calm = spotify_compact[(spotify_compact[\"danceability\"] < 0.75) & (spotify_compact[\"danceability\"] > 0.55)]"
      ],
      "execution_count": null,
      "outputs": []
    },
    {
      "cell_type": "markdown",
      "metadata": {
        "id": "yA_VtLhc_O6U"
      },
      "source": [
        "Restaurant, sTreet bar, night bar, tee house\n",
        "\n",
        "// Restaurant: background music: // maybe also cuisine?\n",
        "- Fine Dining. - Casual Dining. - Contemporary Casual. - Family Style. - Fast Food. - Cafe.\n",
        "\n",
        "Bar: \n",
        "- Beer hall. - Cocktail lounge. - Hotel bar. - Karaoke bar. - Music bar. - Sports bar. - Night Club"
      ]
    },
    {
      "cell_type": "code",
      "metadata": {
        "id": "P7V95tdc4uSR"
      },
      "source": [
        "spotify_compact[spotify_compact[\"loudness\"] < -10]"
      ],
      "execution_count": null,
      "outputs": []
    },
    {
      "cell_type": "code",
      "metadata": {
        "colab": {
          "base_uri": "https://localhost:8080/"
        },
        "id": "EEax1yCzAYnB",
        "outputId": "fa922554-acbd-4c88-9d6e-f9ec829d9f36"
      },
      "source": [
        "spotify_compact[\"speechiness\"].describe()"
      ],
      "execution_count": null,
      "outputs": [
        {
          "output_type": "execute_result",
          "data": {
            "text/plain": [
              "count    18454.000000\n",
              "mean         0.106192\n",
              "std          0.102291\n",
              "min          0.022400\n",
              "25%          0.039700\n",
              "50%          0.060300\n",
              "75%          0.130000\n",
              "max          0.918000\n",
              "Name: speechiness, dtype: float64"
            ]
          },
          "metadata": {},
          "execution_count": 209
        }
      ]
    },
    {
      "cell_type": "code",
      "metadata": {
        "id": "-KuBwhx9xFn1"
      },
      "source": [
        "sns.boxplot(y = spotify_compact[\"speechiness\"])"
      ],
      "execution_count": null,
      "outputs": []
    },
    {
      "cell_type": "code",
      "metadata": {
        "id": "N54aa8gXIksf"
      },
      "source": [
        "spotify_compact.info()"
      ],
      "execution_count": null,
      "outputs": []
    },
    {
      "cell_type": "code",
      "metadata": {
        "id": "kU5KdreGMn5o"
      },
      "source": [
        "restaurant: < 0.04 speechiness\n",
        "# tee_house < 0.04 speechiness\n",
        "0.04 < streetbar < 0.13 speechiness\n",
        "0.06 < night club speechiness"
      ],
      "execution_count": null,
      "outputs": []
    },
    {
      "cell_type": "code",
      "metadata": {
        "id": "BO1C61lVRahN"
      },
      "source": [
        "chill[chill[\"speechiness\"] < 0.04] # 1439 // restaurant or teehouse\n",
        "chill[(chill[\"speechiness\"] < 0.13) & (chill[\"speechiness\"] > 0.04)] # 1654 // streetbar\n",
        "chill[chill[\"speechiness\"] > 0.06] # 1718 // night club"
      ],
      "execution_count": null,
      "outputs": []
    },
    {
      "cell_type": "code",
      "metadata": {
        "id": "yye0AKbiRSyj"
      },
      "source": [
        "cheerful_and_fun[cheerful_and_fun[\"speechiness\"] < 0.04] # 1395 // restaurant or teehouse\n",
        "cheerful_and_fun[(cheerful_and_fun[\"speechiness\"] < 0.13) & (cheerful_and_fun[\"speechiness\"] > 0.04)] # 3627 // streetbar\n",
        "cheerful_and_fun[cheerful_and_fun[\"speechiness\"] > 0.06] # 3489 // night club"
      ],
      "execution_count": null,
      "outputs": []
    },
    {
      "cell_type": "code",
      "metadata": {
        "id": "jhG4z7rKRvz2"
      },
      "source": [
        "energetic_and_upbeat[energetic_and_upbeat[\"speechiness\"] < 0.04] # 667 // restaurant or teehouse\n",
        "energetic_and_upbeat[(energetic_and_upbeat[\"speechiness\"] < 0.13) & (energetic_and_upbeat[\"speechiness\"] > 0.04)] # 2323 // streetbar\n",
        "energetic_and_upbeat[energetic_and_upbeat[\"speechiness\"] > 0.06] # 2432 // night club"
      ],
      "execution_count": null,
      "outputs": []
    },
    {
      "cell_type": "code",
      "metadata": {
        "id": "dX12FT2rR5jD"
      },
      "source": [
        "sns.boxplot(y = spotify_compact[\"duration_ms\"]/1000) # duration as sec."
      ],
      "execution_count": null,
      "outputs": []
    },
    {
      "cell_type": "code",
      "metadata": {
        "id": "96efrQ2cer8I"
      },
      "source": [
        "spotify_compact[spotify_compact[\"duration_ms\"]/1000 < 100]"
      ],
      "execution_count": null,
      "outputs": []
    }
  ]
}